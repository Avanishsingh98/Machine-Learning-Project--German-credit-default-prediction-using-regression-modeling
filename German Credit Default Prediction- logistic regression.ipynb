{
 "cells": [
  {
   "cell_type": "markdown",
   "id": "9cee3349",
   "metadata": {},
   "source": [
    "Importing necessary libraries"
   ]
  },
  {
   "cell_type": "code",
   "execution_count": 1,
   "id": "59155f52",
   "metadata": {},
   "outputs": [],
   "source": [
    "import pandas as pd\n",
    "import numpy as np\n",
    "import matplotlib.pyplot as plt\n",
    "import seaborn as sns\n",
    "%matplotlib inline"
   ]
  },
  {
   "cell_type": "code",
   "execution_count": 2,
   "id": "627518b6",
   "metadata": {},
   "outputs": [],
   "source": [
    "data = pd.read_excel(r\"C:\\Users\\Avani\\OneDrive\\Personal Projects\\Model Data (1).xlsx\")"
   ]
  },
  {
   "cell_type": "code",
   "execution_count": 3,
   "id": "72fbc750",
   "metadata": {},
   "outputs": [
    {
     "data": {
      "text/html": [
       "<div>\n",
       "<style scoped>\n",
       "    .dataframe tbody tr th:only-of-type {\n",
       "        vertical-align: middle;\n",
       "    }\n",
       "\n",
       "    .dataframe tbody tr th {\n",
       "        vertical-align: top;\n",
       "    }\n",
       "\n",
       "    .dataframe thead th {\n",
       "        text-align: right;\n",
       "    }\n",
       "</style>\n",
       "<table border=\"1\" class=\"dataframe\">\n",
       "  <thead>\n",
       "    <tr style=\"text-align: right;\">\n",
       "      <th></th>\n",
       "      <th>S.No</th>\n",
       "      <th>Duration</th>\n",
       "      <th>Credit History</th>\n",
       "      <th>critical</th>\n",
       "      <th>delay</th>\n",
       "      <th>Bank paid</th>\n",
       "      <th>Purpose of credit</th>\n",
       "      <th>Credit Amount</th>\n",
       "      <th>Amount 4679</th>\n",
       "      <th>Less than 1000</th>\n",
       "      <th>...</th>\n",
       "      <th>Phone</th>\n",
       "      <th>Foreign</th>\n",
       "      <th>HKCAL200*Credit Amount</th>\n",
       "      <th>FOR*CREDIT Amount</th>\n",
       "      <th>CREDITA*DEPEND</th>\n",
       "      <th>Credit classification</th>\n",
       "      <th>Credit Rating</th>\n",
       "      <th>Unnamed: 47</th>\n",
       "      <th>Unnamed: 48</th>\n",
       "      <th>Unnamed: 49</th>\n",
       "    </tr>\n",
       "  </thead>\n",
       "  <tbody>\n",
       "    <tr>\n",
       "      <th>0</th>\n",
       "      <td>1.0</td>\n",
       "      <td>6.0</td>\n",
       "      <td>critical</td>\n",
       "      <td>1.0</td>\n",
       "      <td>0.0</td>\n",
       "      <td>0.0</td>\n",
       "      <td>radio-tv</td>\n",
       "      <td>1169.0</td>\n",
       "      <td>0.0</td>\n",
       "      <td>0.0</td>\n",
       "      <td>...</td>\n",
       "      <td>0.0</td>\n",
       "      <td>0.0</td>\n",
       "      <td>NaN</td>\n",
       "      <td>0.0</td>\n",
       "      <td>0.0</td>\n",
       "      <td>good.</td>\n",
       "      <td>0.0</td>\n",
       "      <td>NaN</td>\n",
       "      <td>NaN</td>\n",
       "      <td>NaN</td>\n",
       "    </tr>\n",
       "    <tr>\n",
       "      <th>1</th>\n",
       "      <td>2.0</td>\n",
       "      <td>48.0</td>\n",
       "      <td>all-paid-duly</td>\n",
       "      <td>0.0</td>\n",
       "      <td>0.0</td>\n",
       "      <td>0.0</td>\n",
       "      <td>radio-tv</td>\n",
       "      <td>5951.0</td>\n",
       "      <td>1.0</td>\n",
       "      <td>0.0</td>\n",
       "      <td>...</td>\n",
       "      <td>1.0</td>\n",
       "      <td>1.0</td>\n",
       "      <td>NaN</td>\n",
       "      <td>0.0</td>\n",
       "      <td>0.0</td>\n",
       "      <td>bad.</td>\n",
       "      <td>1.0</td>\n",
       "      <td>NaN</td>\n",
       "      <td>NaN</td>\n",
       "      <td>NaN</td>\n",
       "    </tr>\n",
       "    <tr>\n",
       "      <th>2</th>\n",
       "      <td>3.0</td>\n",
       "      <td>12.0</td>\n",
       "      <td>critical</td>\n",
       "      <td>1.0</td>\n",
       "      <td>0.0</td>\n",
       "      <td>0.0</td>\n",
       "      <td>education</td>\n",
       "      <td>2096.0</td>\n",
       "      <td>0.0</td>\n",
       "      <td>0.0</td>\n",
       "      <td>...</td>\n",
       "      <td>1.0</td>\n",
       "      <td>1.0</td>\n",
       "      <td>NaN</td>\n",
       "      <td>0.0</td>\n",
       "      <td>0.0</td>\n",
       "      <td>good.</td>\n",
       "      <td>0.0</td>\n",
       "      <td>NaN</td>\n",
       "      <td>NaN</td>\n",
       "      <td>NaN</td>\n",
       "    </tr>\n",
       "    <tr>\n",
       "      <th>3</th>\n",
       "      <td>4.0</td>\n",
       "      <td>42.0</td>\n",
       "      <td>all-paid-duly</td>\n",
       "      <td>0.0</td>\n",
       "      <td>0.0</td>\n",
       "      <td>0.0</td>\n",
       "      <td>furniture</td>\n",
       "      <td>7882.0</td>\n",
       "      <td>1.0</td>\n",
       "      <td>0.0</td>\n",
       "      <td>...</td>\n",
       "      <td>1.0</td>\n",
       "      <td>1.0</td>\n",
       "      <td>NaN</td>\n",
       "      <td>0.0</td>\n",
       "      <td>0.0</td>\n",
       "      <td>good.</td>\n",
       "      <td>0.0</td>\n",
       "      <td>NaN</td>\n",
       "      <td>NaN</td>\n",
       "      <td>NaN</td>\n",
       "    </tr>\n",
       "    <tr>\n",
       "      <th>4</th>\n",
       "      <td>5.0</td>\n",
       "      <td>24.0</td>\n",
       "      <td>delay</td>\n",
       "      <td>0.0</td>\n",
       "      <td>1.0</td>\n",
       "      <td>0.0</td>\n",
       "      <td>new-car</td>\n",
       "      <td>4870.0</td>\n",
       "      <td>1.0</td>\n",
       "      <td>0.0</td>\n",
       "      <td>...</td>\n",
       "      <td>1.0</td>\n",
       "      <td>1.0</td>\n",
       "      <td>NaN</td>\n",
       "      <td>0.0</td>\n",
       "      <td>0.0</td>\n",
       "      <td>bad.</td>\n",
       "      <td>1.0</td>\n",
       "      <td>NaN</td>\n",
       "      <td>NaN</td>\n",
       "      <td>NaN</td>\n",
       "    </tr>\n",
       "  </tbody>\n",
       "</table>\n",
       "<p>5 rows × 50 columns</p>\n",
       "</div>"
      ],
      "text/plain": [
       "   S.No  Duration Credit History  critical  delay  Bank paid  \\\n",
       "0   1.0       6.0       critical       1.0    0.0        0.0   \n",
       "1   2.0      48.0  all-paid-duly       0.0    0.0        0.0   \n",
       "2   3.0      12.0       critical       1.0    0.0        0.0   \n",
       "3   4.0      42.0  all-paid-duly       0.0    0.0        0.0   \n",
       "4   5.0      24.0          delay       0.0    1.0        0.0   \n",
       "\n",
       "  Purpose of credit  Credit Amount  Amount 4679  Less than 1000  ...  Phone  \\\n",
       "0          radio-tv         1169.0          0.0             0.0  ...    0.0   \n",
       "1          radio-tv         5951.0          1.0             0.0  ...    1.0   \n",
       "2         education         2096.0          0.0             0.0  ...    1.0   \n",
       "3         furniture         7882.0          1.0             0.0  ...    1.0   \n",
       "4           new-car         4870.0          1.0             0.0  ...    1.0   \n",
       "\n",
       "   Foreign HKCAL200*Credit Amount  FOR*CREDIT Amount  CREDITA*DEPEND  \\\n",
       "0      0.0                    NaN                0.0             0.0   \n",
       "1      1.0                    NaN                0.0             0.0   \n",
       "2      1.0                    NaN                0.0             0.0   \n",
       "3      1.0                    NaN                0.0             0.0   \n",
       "4      1.0                    NaN                0.0             0.0   \n",
       "\n",
       "   Credit classification  Credit Rating Unnamed: 47  Unnamed: 48  Unnamed: 49  \n",
       "0                  good.            0.0         NaN          NaN          NaN  \n",
       "1                   bad.            1.0         NaN          NaN          NaN  \n",
       "2                  good.            0.0         NaN          NaN          NaN  \n",
       "3                  good.            0.0         NaN          NaN          NaN  \n",
       "4                   bad.            1.0         NaN          NaN          NaN  \n",
       "\n",
       "[5 rows x 50 columns]"
      ]
     },
     "execution_count": 3,
     "metadata": {},
     "output_type": "execute_result"
    }
   ],
   "source": [
    "data.head()"
   ]
  },
  {
   "cell_type": "code",
   "execution_count": 4,
   "id": "3f24936c",
   "metadata": {},
   "outputs": [
    {
     "data": {
      "text/plain": [
       "S.No                      float64\n",
       "Duration                  float64\n",
       "Credit History             object\n",
       "critical                  float64\n",
       "delay                     float64\n",
       "Bank paid                 float64\n",
       "Purpose of credit          object\n",
       "Credit Amount             float64\n",
       "Amount 4679               float64\n",
       "Less than 1000            float64\n",
       "B1000-5000                float64\n",
       "B5000-10000               float64\n",
       "Balance in Savings A/C     object\n",
       "less than 100             float64\n",
       "less 500                  float64\n",
       "less 1000                 float64\n",
       "over 1000                 float64\n",
       "Employment                 object\n",
       "Unemployed                float64\n",
       "Seven Years               float64\n",
       "four years                float64\n",
       "one year                  float64\n",
       "Install_rate              float64\n",
       "Marital status             object\n",
       "Marital Status -FD        float64\n",
       "Marital Status -MM        float64\n",
       "Marital Status -SM        float64\n",
       "Co-applicant               object\n",
       "Co-applicant_none         float64\n",
       "Co-applicant Gaurantor    float64\n",
       "Present Resident          float64\n",
       "Real Estate               float64\n",
       "Age                       float64\n",
       "Other installment         float64\n",
       "Residence                 float64\n",
       "Num_Credits               float64\n",
       "Job                        object\n",
       "Unskilled                 float64\n",
       "Skilled                   float64\n",
       "No. dependents            float64\n",
       "Phone                     float64\n",
       "Foreign                   float64\n",
       "HKCAL200*Credit Amount    float64\n",
       "FOR*CREDIT Amount         float64\n",
       "CREDITA*DEPEND            float64\n",
       "Credit classification      object\n",
       "Credit Rating             float64\n",
       "Unnamed: 47               float64\n",
       "Unnamed: 48               float64\n",
       "Unnamed: 49               float64\n",
       "dtype: object"
      ]
     },
     "execution_count": 4,
     "metadata": {},
     "output_type": "execute_result"
    }
   ],
   "source": [
    "data.dtypes"
   ]
  },
  {
   "cell_type": "markdown",
   "id": "347f8c6f",
   "metadata": {},
   "source": [
    "# Data Pre-processing"
   ]
  },
  {
   "cell_type": "code",
   "execution_count": 5,
   "id": "d4f16d02",
   "metadata": {},
   "outputs": [
    {
     "data": {
      "text/plain": [
       "S.No                        3\n",
       "Duration                    3\n",
       "Credit History              3\n",
       "critical                    3\n",
       "delay                       3\n",
       "Bank paid                   3\n",
       "Purpose of credit           3\n",
       "Credit Amount               1\n",
       "Amount 4679                 3\n",
       "Less than 1000              3\n",
       "B1000-5000                  3\n",
       "B5000-10000                 3\n",
       "Balance in Savings A/C      3\n",
       "less than 100               3\n",
       "less 500                    3\n",
       "less 1000                   3\n",
       "over 1000                   3\n",
       "Employment                  3\n",
       "Unemployed                  3\n",
       "Seven Years                 3\n",
       "four years                  3\n",
       "one year                    3\n",
       "Install_rate                3\n",
       "Marital status              3\n",
       "Marital Status -FD          3\n",
       "Marital Status -MM          3\n",
       "Marital Status -SM          3\n",
       "Co-applicant                3\n",
       "Co-applicant_none           3\n",
       "Co-applicant Gaurantor      3\n",
       "Present Resident            3\n",
       "Real Estate                 3\n",
       "Age                         3\n",
       "Other installment           3\n",
       "Residence                   3\n",
       "Num_Credits                 3\n",
       "Job                         3\n",
       "Unskilled                   3\n",
       "Skilled                     3\n",
       "No. dependents              3\n",
       "Phone                       3\n",
       "Foreign                     3\n",
       "HKCAL200*Credit Amount    803\n",
       "FOR*CREDIT Amount           3\n",
       "CREDITA*DEPEND              3\n",
       "Credit classification       3\n",
       "Credit Rating               3\n",
       "Unnamed: 47               803\n",
       "Unnamed: 48               803\n",
       "Unnamed: 49               802\n",
       "dtype: int64"
      ]
     },
     "execution_count": 5,
     "metadata": {},
     "output_type": "execute_result"
    }
   ],
   "source": [
    "data.isnull().sum()"
   ]
  },
  {
   "cell_type": "code",
   "execution_count": 6,
   "id": "cc79d365",
   "metadata": {},
   "outputs": [
    {
     "data": {
      "text/plain": [
       "Index(['S.No', 'Duration', 'Credit History', 'critical', 'delay', 'Bank paid',\n",
       "       'Purpose of credit', 'Credit Amount', 'Amount 4679', 'Less than 1000',\n",
       "       'B1000-5000', 'B5000-10000', 'Balance in Savings A/C', 'less than 100',\n",
       "       'less 500', 'less 1000', 'over 1000', 'Employment', 'Unemployed',\n",
       "       'Seven Years', 'four years', 'one year', 'Install_rate',\n",
       "       'Marital status', 'Marital Status -FD', 'Marital Status -MM',\n",
       "       'Marital Status -SM', 'Co-applicant', 'Co-applicant_none',\n",
       "       'Co-applicant Gaurantor', 'Present Resident', 'Real Estate', 'Age',\n",
       "       'Other installment', 'Residence', 'Num_Credits', 'Job', 'Unskilled',\n",
       "       'Skilled', 'No. dependents', 'Phone', 'Foreign',\n",
       "       'HKCAL200*Credit Amount', 'FOR*CREDIT Amount', 'CREDITA*DEPEND',\n",
       "       'Credit classification', 'Credit Rating', 'Unnamed: 47', 'Unnamed: 48',\n",
       "       'Unnamed: 49'],\n",
       "      dtype='object')"
      ]
     },
     "execution_count": 6,
     "metadata": {},
     "output_type": "execute_result"
    }
   ],
   "source": [
    "data.columns"
   ]
  },
  {
   "cell_type": "markdown",
   "id": "cd98fcce",
   "metadata": {},
   "source": [
    "Subsetting Columns"
   ]
  },
  {
   "cell_type": "code",
   "execution_count": 7,
   "id": "a729c679",
   "metadata": {},
   "outputs": [],
   "source": [
    "data = data[['S.No', 'Duration', 'Credit History', 'critical', 'delay', 'Bank paid',\n",
    "       'Purpose of credit', 'Credit Amount', 'Amount 4679', 'Less than 1000',\n",
    "       'B1000-5000', 'B5000-10000', 'Balance in Savings A/C', 'less than 100',\n",
    "       'less 500', 'less 1000', 'over 1000', 'Employment', 'Unemployed',\n",
    "       'Seven Years', 'four years', 'one year', 'Install_rate',\n",
    "       'Marital status', 'Marital Status -FD', 'Marital Status -MM',\n",
    "       'Marital Status -SM', 'Co-applicant', 'Co-applicant_none',\n",
    "       'Co-applicant Gaurantor', 'Present Resident', 'Real Estate', 'Age',\n",
    "       'Other installment', 'Residence', 'Num_Credits', 'Job', 'Unskilled',\n",
    "       'Skilled', 'No. dependents', 'Phone', 'Foreign', 'FOR*CREDIT Amount', 'CREDITA*DEPEND',\n",
    "       'Credit classification', 'Credit Rating']]"
   ]
  },
  {
   "cell_type": "code",
   "execution_count": 8,
   "id": "e90b4373",
   "metadata": {},
   "outputs": [
    {
     "data": {
      "text/plain": [
       "Index(['S.No', 'Duration', 'Credit History', 'critical', 'delay', 'Bank paid',\n",
       "       'Purpose of credit', 'Credit Amount', 'Amount 4679', 'Less than 1000',\n",
       "       'B1000-5000', 'B5000-10000', 'Balance in Savings A/C', 'less than 100',\n",
       "       'less 500', 'less 1000', 'over 1000', 'Employment', 'Unemployed',\n",
       "       'Seven Years', 'four years', 'one year', 'Install_rate',\n",
       "       'Marital status', 'Marital Status -FD', 'Marital Status -MM',\n",
       "       'Marital Status -SM', 'Co-applicant', 'Co-applicant_none',\n",
       "       'Co-applicant Gaurantor', 'Present Resident', 'Real Estate', 'Age',\n",
       "       'Other installment', 'Residence', 'Num_Credits', 'Job', 'Unskilled',\n",
       "       'Skilled', 'No. dependents', 'Phone', 'Foreign', 'FOR*CREDIT Amount',\n",
       "       'CREDITA*DEPEND', 'Credit classification', 'Credit Rating'],\n",
       "      dtype='object')"
      ]
     },
     "execution_count": 8,
     "metadata": {},
     "output_type": "execute_result"
    }
   ],
   "source": [
    "data.columns"
   ]
  },
  {
   "cell_type": "code",
   "execution_count": 9,
   "id": "1e70ed19",
   "metadata": {},
   "outputs": [
    {
     "data": {
      "text/html": [
       "<div>\n",
       "<style scoped>\n",
       "    .dataframe tbody tr th:only-of-type {\n",
       "        vertical-align: middle;\n",
       "    }\n",
       "\n",
       "    .dataframe tbody tr th {\n",
       "        vertical-align: top;\n",
       "    }\n",
       "\n",
       "    .dataframe thead th {\n",
       "        text-align: right;\n",
       "    }\n",
       "</style>\n",
       "<table border=\"1\" class=\"dataframe\">\n",
       "  <thead>\n",
       "    <tr style=\"text-align: right;\">\n",
       "      <th></th>\n",
       "      <th>S.No</th>\n",
       "      <th>Duration</th>\n",
       "      <th>Credit History</th>\n",
       "      <th>critical</th>\n",
       "      <th>delay</th>\n",
       "      <th>Bank paid</th>\n",
       "      <th>Purpose of credit</th>\n",
       "      <th>Credit Amount</th>\n",
       "      <th>Amount 4679</th>\n",
       "      <th>Less than 1000</th>\n",
       "      <th>...</th>\n",
       "      <th>Job</th>\n",
       "      <th>Unskilled</th>\n",
       "      <th>Skilled</th>\n",
       "      <th>No. dependents</th>\n",
       "      <th>Phone</th>\n",
       "      <th>Foreign</th>\n",
       "      <th>FOR*CREDIT Amount</th>\n",
       "      <th>CREDITA*DEPEND</th>\n",
       "      <th>Credit classification</th>\n",
       "      <th>Credit Rating</th>\n",
       "    </tr>\n",
       "  </thead>\n",
       "  <tbody>\n",
       "    <tr>\n",
       "      <th>0</th>\n",
       "      <td>1.0</td>\n",
       "      <td>6.0</td>\n",
       "      <td>critical</td>\n",
       "      <td>1.0</td>\n",
       "      <td>0.0</td>\n",
       "      <td>0.0</td>\n",
       "      <td>radio-tv</td>\n",
       "      <td>1169.0</td>\n",
       "      <td>0.0</td>\n",
       "      <td>0.0</td>\n",
       "      <td>...</td>\n",
       "      <td>skilled</td>\n",
       "      <td>0.0</td>\n",
       "      <td>1.0</td>\n",
       "      <td>1.0</td>\n",
       "      <td>0.0</td>\n",
       "      <td>0.0</td>\n",
       "      <td>0.0</td>\n",
       "      <td>0.0</td>\n",
       "      <td>good.</td>\n",
       "      <td>0.0</td>\n",
       "    </tr>\n",
       "    <tr>\n",
       "      <th>1</th>\n",
       "      <td>2.0</td>\n",
       "      <td>48.0</td>\n",
       "      <td>all-paid-duly</td>\n",
       "      <td>0.0</td>\n",
       "      <td>0.0</td>\n",
       "      <td>0.0</td>\n",
       "      <td>radio-tv</td>\n",
       "      <td>5951.0</td>\n",
       "      <td>1.0</td>\n",
       "      <td>0.0</td>\n",
       "      <td>...</td>\n",
       "      <td>skilled</td>\n",
       "      <td>0.0</td>\n",
       "      <td>1.0</td>\n",
       "      <td>1.0</td>\n",
       "      <td>1.0</td>\n",
       "      <td>1.0</td>\n",
       "      <td>0.0</td>\n",
       "      <td>0.0</td>\n",
       "      <td>bad.</td>\n",
       "      <td>1.0</td>\n",
       "    </tr>\n",
       "    <tr>\n",
       "      <th>2</th>\n",
       "      <td>3.0</td>\n",
       "      <td>12.0</td>\n",
       "      <td>critical</td>\n",
       "      <td>1.0</td>\n",
       "      <td>0.0</td>\n",
       "      <td>0.0</td>\n",
       "      <td>education</td>\n",
       "      <td>2096.0</td>\n",
       "      <td>0.0</td>\n",
       "      <td>0.0</td>\n",
       "      <td>...</td>\n",
       "      <td>unskilled-resident</td>\n",
       "      <td>1.0</td>\n",
       "      <td>0.0</td>\n",
       "      <td>2.0</td>\n",
       "      <td>1.0</td>\n",
       "      <td>1.0</td>\n",
       "      <td>0.0</td>\n",
       "      <td>0.0</td>\n",
       "      <td>good.</td>\n",
       "      <td>0.0</td>\n",
       "    </tr>\n",
       "    <tr>\n",
       "      <th>3</th>\n",
       "      <td>4.0</td>\n",
       "      <td>42.0</td>\n",
       "      <td>all-paid-duly</td>\n",
       "      <td>0.0</td>\n",
       "      <td>0.0</td>\n",
       "      <td>0.0</td>\n",
       "      <td>furniture</td>\n",
       "      <td>7882.0</td>\n",
       "      <td>1.0</td>\n",
       "      <td>0.0</td>\n",
       "      <td>...</td>\n",
       "      <td>skilled</td>\n",
       "      <td>0.0</td>\n",
       "      <td>1.0</td>\n",
       "      <td>2.0</td>\n",
       "      <td>1.0</td>\n",
       "      <td>1.0</td>\n",
       "      <td>0.0</td>\n",
       "      <td>0.0</td>\n",
       "      <td>good.</td>\n",
       "      <td>0.0</td>\n",
       "    </tr>\n",
       "    <tr>\n",
       "      <th>4</th>\n",
       "      <td>5.0</td>\n",
       "      <td>24.0</td>\n",
       "      <td>delay</td>\n",
       "      <td>0.0</td>\n",
       "      <td>1.0</td>\n",
       "      <td>0.0</td>\n",
       "      <td>new-car</td>\n",
       "      <td>4870.0</td>\n",
       "      <td>1.0</td>\n",
       "      <td>0.0</td>\n",
       "      <td>...</td>\n",
       "      <td>skilled</td>\n",
       "      <td>0.0</td>\n",
       "      <td>1.0</td>\n",
       "      <td>2.0</td>\n",
       "      <td>1.0</td>\n",
       "      <td>1.0</td>\n",
       "      <td>0.0</td>\n",
       "      <td>0.0</td>\n",
       "      <td>bad.</td>\n",
       "      <td>1.0</td>\n",
       "    </tr>\n",
       "  </tbody>\n",
       "</table>\n",
       "<p>5 rows × 46 columns</p>\n",
       "</div>"
      ],
      "text/plain": [
       "   S.No  Duration Credit History  critical  delay  Bank paid  \\\n",
       "0   1.0       6.0       critical       1.0    0.0        0.0   \n",
       "1   2.0      48.0  all-paid-duly       0.0    0.0        0.0   \n",
       "2   3.0      12.0       critical       1.0    0.0        0.0   \n",
       "3   4.0      42.0  all-paid-duly       0.0    0.0        0.0   \n",
       "4   5.0      24.0          delay       0.0    1.0        0.0   \n",
       "\n",
       "  Purpose of credit  Credit Amount  Amount 4679  Less than 1000  ...  \\\n",
       "0          radio-tv         1169.0          0.0             0.0  ...   \n",
       "1          radio-tv         5951.0          1.0             0.0  ...   \n",
       "2         education         2096.0          0.0             0.0  ...   \n",
       "3         furniture         7882.0          1.0             0.0  ...   \n",
       "4           new-car         4870.0          1.0             0.0  ...   \n",
       "\n",
       "                   Job  Unskilled Skilled  No. dependents  Phone  Foreign  \\\n",
       "0              skilled        0.0     1.0             1.0    0.0      0.0   \n",
       "1              skilled        0.0     1.0             1.0    1.0      1.0   \n",
       "2   unskilled-resident        1.0     0.0             2.0    1.0      1.0   \n",
       "3              skilled        0.0     1.0             2.0    1.0      1.0   \n",
       "4              skilled        0.0     1.0             2.0    1.0      1.0   \n",
       "\n",
       "   FOR*CREDIT Amount CREDITA*DEPEND  Credit classification  Credit Rating  \n",
       "0                0.0            0.0                  good.            0.0  \n",
       "1                0.0            0.0                   bad.            1.0  \n",
       "2                0.0            0.0                  good.            0.0  \n",
       "3                0.0            0.0                  good.            0.0  \n",
       "4                0.0            0.0                   bad.            1.0  \n",
       "\n",
       "[5 rows x 46 columns]"
      ]
     },
     "execution_count": 9,
     "metadata": {},
     "output_type": "execute_result"
    }
   ],
   "source": [
    "data.head()"
   ]
  },
  {
   "cell_type": "code",
   "execution_count": 10,
   "id": "18adaed2",
   "metadata": {},
   "outputs": [
    {
     "data": {
      "text/plain": [
       "S.No                      0\n",
       "Duration                  0\n",
       "Credit History            0\n",
       "critical                  0\n",
       "delay                     0\n",
       "Bank paid                 0\n",
       "Purpose of credit         0\n",
       "Credit Amount             0\n",
       "Amount 4679               0\n",
       "Less than 1000            0\n",
       "B1000-5000                0\n",
       "B5000-10000               0\n",
       "Balance in Savings A/C    0\n",
       "less than 100             0\n",
       "less 500                  0\n",
       "less 1000                 0\n",
       "over 1000                 0\n",
       "Employment                0\n",
       "Unemployed                0\n",
       "Seven Years               0\n",
       "four years                0\n",
       "one year                  0\n",
       "Install_rate              0\n",
       "Marital status            0\n",
       "Marital Status -FD        0\n",
       "Marital Status -MM        0\n",
       "Marital Status -SM        0\n",
       "Co-applicant              0\n",
       "Co-applicant_none         0\n",
       "Co-applicant Gaurantor    0\n",
       "Present Resident          0\n",
       "Real Estate               0\n",
       "Age                       0\n",
       "Other installment         0\n",
       "Residence                 0\n",
       "Num_Credits               0\n",
       "Job                       0\n",
       "Unskilled                 0\n",
       "Skilled                   0\n",
       "No. dependents            0\n",
       "Phone                     0\n",
       "Foreign                   0\n",
       "FOR*CREDIT Amount         0\n",
       "CREDITA*DEPEND            0\n",
       "Credit classification     0\n",
       "Credit Rating             0\n",
       "dtype: int64"
      ]
     },
     "execution_count": 10,
     "metadata": {},
     "output_type": "execute_result"
    }
   ],
   "source": [
    "data.dropna(inplace = True) # Removing null values\n",
    "data.isnull().sum()"
   ]
  },
  {
   "cell_type": "markdown",
   "id": "78d01466",
   "metadata": {},
   "source": [
    "# EDA"
   ]
  },
  {
   "cell_type": "code",
   "execution_count": 11,
   "id": "9e684361",
   "metadata": {},
   "outputs": [
    {
     "data": {
      "text/plain": [
       "<Axes: title={'center': 'Credit Rating across critical'}, xlabel='Credit Rating,critical', ylabel='Frequency'>"
      ]
     },
     "execution_count": 11,
     "metadata": {},
     "output_type": "execute_result"
    },
    {
     "data": {
      "image/png": "[encoded data removed]",
      "text/plain": [
       "<Figure size 640x480 with 1 Axes>"
      ]
     },
     "metadata": {},
     "output_type": "display_data"
    }
   ],
   "source": [
    "plt.title('Credit Rating across critical', fontsize=10, y=1.015,fontweight='semibold')\n",
    "plt.ylabel('Frequency', labelpad=16)\n",
    "data.groupby('Credit Rating')['critical'].value_counts().plot(kind = 'bar')"
   ]
  },
  {
   "cell_type": "code",
   "execution_count": 12,
   "id": "cca87289",
   "metadata": {},
   "outputs": [
    {
     "data": {
      "text/plain": [
       "<Axes: title={'center': 'Credit rating across Duration'}, xlabel='Credit Rating', ylabel='Average Duration'>"
      ]
     },
     "execution_count": 12,
     "metadata": {},
     "output_type": "execute_result"
    },
    {
     "data": {
      "image/png": "[encoded data removed]",
      "text/plain": [
       "<Figure size 640x480 with 1 Axes>"
      ]
     },
     "metadata": {},
     "output_type": "display_data"
    }
   ],
   "source": [
    "plt.title('Credit rating across Duration', fontsize=10, y=1.015,fontweight='semibold')\n",
    "plt.ylabel('Average Duration', labelpad=16)\n",
    "data.groupby('Credit Rating')['Duration'].mean().plot(kind = 'bar')"
   ]
  },
  {
   "cell_type": "code",
   "execution_count": 13,
   "id": "adca6bbe",
   "metadata": {},
   "outputs": [
    {
     "data": {
      "text/plain": [
       "<Axes: title={'center': 'Credit rating with salary less then 100'}, xlabel='Credit Rating,less than 100', ylabel='Frequncy'>"
      ]
     },
     "execution_count": 13,
     "metadata": {},
     "output_type": "execute_result"
    },
    {
     "data": {
      "image/png": "[encoded data removed]",
      "text/plain": [
       "<Figure size 640x480 with 1 Axes>"
      ]
     },
     "metadata": {},
     "output_type": "display_data"
    }
   ],
   "source": [
    "plt.title('Credit rating with salary less then 100', fontsize=10, y=1.015,fontweight='semibold')\n",
    "plt.ylabel('Frequncy', labelpad=16)\n",
    "data.groupby('Credit Rating')['less than 100'].value_counts().plot(kind = 'bar')"
   ]
  },
  {
   "cell_type": "code",
   "execution_count": 14,
   "id": "9b6cb771",
   "metadata": {},
   "outputs": [
    {
     "data": {
      "text/plain": [
       "Credit Rating  less than 100\n",
       "0.0            1.0              310\n",
       "               0.0              251\n",
       "1.0            1.0              166\n",
       "               0.0               73\n",
       "Name: count, dtype: int64"
      ]
     },
     "execution_count": 14,
     "metadata": {},
     "output_type": "execute_result"
    }
   ],
   "source": [
    "data.groupby('Credit Rating')['less than 100'].value_counts()"
   ]
  },
  {
   "cell_type": "code",
   "execution_count": 15,
   "id": "46ec8150",
   "metadata": {},
   "outputs": [
    {
     "data": {
      "text/plain": [
       "<Axes: title={'center': 'Credit rating with people havinh 7 years of experience'}, xlabel='Credit Rating,Seven Years', ylabel='Frequency'>"
      ]
     },
     "execution_count": 15,
     "metadata": {},
     "output_type": "execute_result"
    },
    {
     "data": {
      "image/png": "[encoded data removed]",
      "text/plain": [
       "<Figure size 640x480 with 1 Axes>"
      ]
     },
     "metadata": {},
     "output_type": "display_data"
    }
   ],
   "source": [
    "plt.title('Credit rating with people havinh 7 years of experience', fontsize=10, y=1.015,fontweight='semibold')\n",
    "plt.ylabel('Frequency', labelpad=16)\n",
    "data.groupby('Credit Rating')['Seven Years'].value_counts().plot(kind = 'bar')"
   ]
  },
  {
   "cell_type": "code",
   "execution_count": 16,
   "id": "c6ac2363",
   "metadata": {},
   "outputs": [
    {
     "data": {
      "text/plain": [
       "<Axes: title={'center': 'Credit rating with installment rate'}, xlabel='Credit Rating,Install_rate', ylabel='frequency'>"
      ]
     },
     "execution_count": 16,
     "metadata": {},
     "output_type": "execute_result"
    },
    {
     "data": {
      "image/png": "[encoded data removed]",
      "text/plain": [
       "<Figure size 640x480 with 1 Axes>"
      ]
     },
     "metadata": {},
     "output_type": "display_data"
    }
   ],
   "source": [
    "plt.title('Credit rating with installment rate', fontsize=10, y=1.015,fontweight='semibold')\n",
    "plt.ylabel('frequency', labelpad=16)\n",
    "data.groupby('Credit Rating')['Install_rate'].value_counts().plot(kind = 'bar')"
   ]
  },
  {
   "cell_type": "code",
   "execution_count": 17,
   "id": "14bd5c3e",
   "metadata": {},
   "outputs": [
    {
     "data": {
      "text/plain": [
       "<Axes: xlabel='Credit Rating,Marital Status -SM'>"
      ]
     },
     "execution_count": 17,
     "metadata": {},
     "output_type": "execute_result"
    },
    {
     "data": {
      "image/png": "[encoded data removed]",
      "text/plain": [
       "<Figure size 640x480 with 1 Axes>"
      ]
     },
     "metadata": {},
     "output_type": "display_data"
    }
   ],
   "source": [
    "data.groupby('Credit Rating')['Marital Status -SM'].value_counts().plot(kind = 'bar')"
   ]
  },
  {
   "cell_type": "code",
   "execution_count": 18,
   "id": "19a2b71c",
   "metadata": {},
   "outputs": [
    {
     "data": {
      "text/plain": [
       "<Axes: xlabel='Credit Rating,Other installment'>"
      ]
     },
     "execution_count": 18,
     "metadata": {},
     "output_type": "execute_result"
    },
    {
     "data": {
      "image/png": "[encoded data removed]",
      "text/plain": [
       "<Figure size 640x480 with 1 Axes>"
      ]
     },
     "metadata": {},
     "output_type": "display_data"
    }
   ],
   "source": [
    "data.groupby('Credit Rating')['Other installment'].value_counts().plot(kind = 'bar')"
   ]
  },
  {
   "cell_type": "markdown",
   "id": "24b2b746",
   "metadata": {},
   "source": [
    "# Splitting data into dependent and independent variables"
   ]
  },
  {
   "cell_type": "code",
   "execution_count": 19,
   "id": "8ea84823",
   "metadata": {},
   "outputs": [],
   "source": [
    "X = data[['critical','Other installment','Marital Status -SM','Install_rate','Seven Years','less than 100','Duration','critical']]\n",
    "Y = data['Credit Rating']"
   ]
  },
  {
   "cell_type": "code",
   "execution_count": 20,
   "id": "0ac13b68",
   "metadata": {},
   "outputs": [],
   "source": [
    "from sklearn.model_selection import train_test_split\n",
    "\n",
    "X_train, X_test, y_train, y_test = train_test_split(X, Y, test_size = 0.2, random_state = 42)"
   ]
  },
  {
   "cell_type": "markdown",
   "id": "04aa14ac",
   "metadata": {},
   "source": [
    "# Building Logistics Regression Model"
   ]
  },
  {
   "cell_type": "code",
   "execution_count": 21,
   "id": "4d029724",
   "metadata": {},
   "outputs": [
    {
     "data": {
      "text/html": [
       "<table class=\"simpletable\">\n",
       "<tr>\n",
       "        <td>Model:</td>               <td>GLM</td>            <td>AIC:</td>        <td>724.6292</td> \n",
       "</tr>\n",
       "<tr>\n",
       "    <td>Link Function:</td>          <td>Logit</td>           <td>BIC:</td>       <td>-3375.0187</td>\n",
       "</tr>\n",
       "<tr>\n",
       "  <td>Dependent Variable:</td>   <td>Credit Rating</td>  <td>Log-Likelihood:</td>   <td>-354.31</td> \n",
       "</tr>\n",
       "<tr>\n",
       "         <td>Date:</td>        <td>2023-11-22 17:43</td>    <td>LL-Null:</td>       <td>-396.70</td> \n",
       "</tr>\n",
       "<tr>\n",
       "   <td>No. Observations:</td>         <td>640</td>          <td>Deviance:</td>      <td>708.63</td>  \n",
       "</tr>\n",
       "<tr>\n",
       "       <td>Df Model:</td>              <td>7</td>         <td>Pearson chi2:</td>     <td>637.</td>   \n",
       "</tr>\n",
       "<tr>\n",
       "     <td>Df Residuals:</td>           <td>632</td>           <td>Scale:</td>        <td>1.0000</td>  \n",
       "</tr>\n",
       "<tr>\n",
       "        <td>Method:</td>             <td>IRLS</td>              <td></td>              <td></td>     \n",
       "</tr>\n",
       "</table>\n",
       "<table class=\"simpletable\">\n",
       "<tr>\n",
       "           <td></td>           <th>Coef.</th>  <th>Std.Err.</th>    <th>z</th>     <th>P>|z|</th> <th>[0.025</th>  <th>0.975]</th> \n",
       "</tr>\n",
       "<tr>\n",
       "  <th>const</th>              <td>-2.1964</td>  <td>0.3574</td>  <td>-6.1447</td> <td>0.0000</td> <td>-2.8970</td> <td>-1.4958</td>\n",
       "</tr>\n",
       "<tr>\n",
       "  <th>critical</th>           <td>-0.4436</td>  <td>0.1110</td>  <td>-3.9958</td> <td>0.0001</td> <td>-0.6611</td> <td>-0.2260</td>\n",
       "</tr>\n",
       "<tr>\n",
       "  <th>Other installment</th>  <td>0.4344</td>   <td>0.2264</td>  <td>1.9189</td>  <td>0.0550</td> <td>-0.0093</td> <td>0.8781</td> \n",
       "</tr>\n",
       "<tr>\n",
       "  <th>Marital Status -SM</th> <td>-0.6550</td>  <td>0.1896</td>  <td>-3.4546</td> <td>0.0006</td> <td>-1.0267</td> <td>-0.2834</td>\n",
       "</tr>\n",
       "<tr>\n",
       "  <th>Install_rate</th>       <td>0.1850</td>   <td>0.0836</td>  <td>2.2128</td>  <td>0.0269</td> <td>0.0211</td>  <td>0.3489</td> \n",
       "</tr>\n",
       "<tr>\n",
       "  <th>Seven Years</th>        <td>-0.4423</td>  <td>0.2590</td>  <td>-1.7075</td> <td>0.0877</td> <td>-0.9500</td> <td>0.0654</td> \n",
       "</tr>\n",
       "<tr>\n",
       "  <th>less than 100</th>      <td>0.7176</td>   <td>0.1959</td>  <td>3.6631</td>  <td>0.0002</td> <td>0.3337</td>  <td>1.1016</td> \n",
       "</tr>\n",
       "<tr>\n",
       "  <th>Duration</th>           <td>0.0429</td>   <td>0.0076</td>  <td>5.6295</td>  <td>0.0000</td> <td>0.0280</td>  <td>0.0578</td> \n",
       "</tr>\n",
       "<tr>\n",
       "  <th>critical</th>           <td>-0.4436</td>  <td>0.1110</td>  <td>-3.9958</td> <td>0.0001</td> <td>-0.6611</td> <td>-0.2260</td>\n",
       "</tr>\n",
       "</table><br/>\n"
      ],
      "text/latex": [
       "\\begin{table}\n",
       "\\caption{Results: Generalized linear model}\n",
       "\\label{}\n",
       "\\begin{center}\n",
       "\\begin{tabular}{llll}\n",
       "\\hline\n",
       "Model:              & GLM              & AIC:            & 724.6292    \\\\\n",
       "Link Function:      & Logit            & BIC:            & -3375.0187  \\\\\n",
       "Dependent Variable: & Credit Rating    & Log-Likelihood: & -354.31     \\\\\n",
       "Date:               & 2023-11-22 17:43 & LL-Null:        & -396.70     \\\\\n",
       "No. Observations:   & 640              & Deviance:       & 708.63      \\\\\n",
       "Df Model:           & 7                & Pearson chi2:   & 637.        \\\\\n",
       "Df Residuals:       & 632              & Scale:          & 1.0000      \\\\\n",
       "Method:             & IRLS             &                 &             \\\\\n",
       "\\hline\n",
       "\\end{tabular}\n",
       "\\end{center}\n",
       "\n",
       "\\begin{center}\n",
       "\\begin{tabular}{lrrrrrr}\n",
       "\\hline\n",
       "                   &   Coef. & Std.Err. &       z & P$> |$z$|$ &  [0.025 &  0.975]  \\\\\n",
       "\\hline\n",
       "const              & -2.1964 &   0.3574 & -6.1447 &      0.0000 & -2.8970 & -1.4958  \\\\\n",
       "critical           & -0.4436 &   0.1110 & -3.9958 &      0.0001 & -0.6611 & -0.2260  \\\\\n",
       "Other installment  &  0.4344 &   0.2264 &  1.9189 &      0.0550 & -0.0093 &  0.8781  \\\\\n",
       "Marital Status -SM & -0.6550 &   0.1896 & -3.4546 &      0.0006 & -1.0267 & -0.2834  \\\\\n",
       "Install\\_rate      &  0.1850 &   0.0836 &  2.2128 &      0.0269 &  0.0211 &  0.3489  \\\\\n",
       "Seven Years        & -0.4423 &   0.2590 & -1.7075 &      0.0877 & -0.9500 &  0.0654  \\\\\n",
       "less than 100      &  0.7176 &   0.1959 &  3.6631 &      0.0002 &  0.3337 &  1.1016  \\\\\n",
       "Duration           &  0.0429 &   0.0076 &  5.6295 &      0.0000 &  0.0280 &  0.0578  \\\\\n",
       "critical           & -0.4436 &   0.1110 & -3.9958 &      0.0001 & -0.6611 & -0.2260  \\\\\n",
       "\\hline\n",
       "\\end{tabular}\n",
       "\\end{center}\n",
       "\\end{table}\n",
       "\\bigskip\n"
      ],
      "text/plain": [
       "<class 'statsmodels.iolib.summary2.Summary'>\n",
       "\"\"\"\n",
       "                Results: Generalized linear model\n",
       "==================================================================\n",
       "Model:               GLM               AIC:             724.6292  \n",
       "Link Function:       Logit             BIC:             -3375.0187\n",
       "Dependent Variable:  Credit Rating     Log-Likelihood:  -354.31   \n",
       "Date:                2023-11-22 17:43  LL-Null:         -396.70   \n",
       "No. Observations:    640               Deviance:        708.63    \n",
       "Df Model:            7                 Pearson chi2:    637.      \n",
       "Df Residuals:        632               Scale:           1.0000    \n",
       "Method:              IRLS                                         \n",
       "------------------------------------------------------------------\n",
       "                    Coef.  Std.Err.    z    P>|z|   [0.025  0.975]\n",
       "------------------------------------------------------------------\n",
       "const              -2.1964   0.3574 -6.1447 0.0000 -2.8970 -1.4958\n",
       "critical           -0.4436   0.1110 -3.9958 0.0001 -0.6611 -0.2260\n",
       "Other installment   0.4344   0.2264  1.9189 0.0550 -0.0093  0.8781\n",
       "Marital Status -SM -0.6550   0.1896 -3.4546 0.0006 -1.0267 -0.2834\n",
       "Install_rate        0.1850   0.0836  2.2128 0.0269  0.0211  0.3489\n",
       "Seven Years        -0.4423   0.2590 -1.7075 0.0877 -0.9500  0.0654\n",
       "less than 100       0.7176   0.1959  3.6631 0.0002  0.3337  1.1016\n",
       "Duration            0.0429   0.0076  5.6295 0.0000  0.0280  0.0578\n",
       "critical           -0.4436   0.1110 -3.9958 0.0001 -0.6611 -0.2260\n",
       "==================================================================\n",
       "\n",
       "\"\"\""
      ]
     },
     "execution_count": 21,
     "metadata": {},
     "output_type": "execute_result"
    }
   ],
   "source": [
    "import statsmodels.api as sm\n",
    "lg_reg_model = sm.GLM(y_train, sm.add_constant(X_train),family=sm.families.Binomial()).fit()\n",
    "\n",
    "lg_reg_model.summary2()"
   ]
  },
  {
   "cell_type": "code",
   "execution_count": 22,
   "id": "2e3fc8c8",
   "metadata": {},
   "outputs": [
    {
     "data": {
      "text/html": [
       "<div>\n",
       "<style scoped>\n",
       "    .dataframe tbody tr th:only-of-type {\n",
       "        vertical-align: middle;\n",
       "    }\n",
       "\n",
       "    .dataframe tbody tr th {\n",
       "        vertical-align: top;\n",
       "    }\n",
       "\n",
       "    .dataframe thead th {\n",
       "        text-align: right;\n",
       "    }\n",
       "</style>\n",
       "<table border=\"1\" class=\"dataframe\">\n",
       "  <thead>\n",
       "    <tr style=\"text-align: right;\">\n",
       "      <th></th>\n",
       "      <th>actual</th>\n",
       "      <th>predicted_prob</th>\n",
       "    </tr>\n",
       "  </thead>\n",
       "  <tbody>\n",
       "    <tr>\n",
       "      <th>696</th>\n",
       "      <td>0.0</td>\n",
       "      <td>0.210581</td>\n",
       "    </tr>\n",
       "    <tr>\n",
       "      <th>667</th>\n",
       "      <td>0.0</td>\n",
       "      <td>0.768377</td>\n",
       "    </tr>\n",
       "    <tr>\n",
       "      <th>63</th>\n",
       "      <td>1.0</td>\n",
       "      <td>0.573153</td>\n",
       "    </tr>\n",
       "    <tr>\n",
       "      <th>533</th>\n",
       "      <td>0.0</td>\n",
       "      <td>0.295374</td>\n",
       "    </tr>\n",
       "    <tr>\n",
       "      <th>66</th>\n",
       "      <td>0.0</td>\n",
       "      <td>0.460163</td>\n",
       "    </tr>\n",
       "  </tbody>\n",
       "</table>\n",
       "</div>"
      ],
      "text/plain": [
       "     actual  predicted_prob\n",
       "696     0.0        0.210581\n",
       "667     0.0        0.768377\n",
       "63      1.0        0.573153\n",
       "533     0.0        0.295374\n",
       "66      0.0        0.460163"
      ]
     },
     "execution_count": 22,
     "metadata": {},
     "output_type": "execute_result"
    }
   ],
   "source": [
    "def get_predictions ( test_class, model, test_data ):\n",
    "    y_pred_df = pd.DataFrame( { 'actual': test_class,\n",
    "                               'predicted_prob': model.get_prediction(sm.add_constant(test_data)).predicted_mean})\n",
    "    return y_pred_df\n",
    "predict_test_df = pd.DataFrame(get_predictions(y_test, lg_reg_model, X_test))\n",
    "predict_test_df.head()\n"
   ]
  },
  {
   "cell_type": "code",
   "execution_count": 23,
   "id": "50dd627c",
   "metadata": {},
   "outputs": [
    {
     "data": {
      "text/html": [
       "<div>\n",
       "<style scoped>\n",
       "    .dataframe tbody tr th:only-of-type {\n",
       "        vertical-align: middle;\n",
       "    }\n",
       "\n",
       "    .dataframe tbody tr th {\n",
       "        vertical-align: top;\n",
       "    }\n",
       "\n",
       "    .dataframe thead th {\n",
       "        text-align: right;\n",
       "    }\n",
       "</style>\n",
       "<table border=\"1\" class=\"dataframe\">\n",
       "  <thead>\n",
       "    <tr style=\"text-align: right;\">\n",
       "      <th></th>\n",
       "      <th>actual</th>\n",
       "      <th>predicted_prob</th>\n",
       "      <th>Converted</th>\n",
       "    </tr>\n",
       "  </thead>\n",
       "  <tbody>\n",
       "    <tr>\n",
       "      <th>696</th>\n",
       "      <td>0.0</td>\n",
       "      <td>0.210581</td>\n",
       "      <td>0</td>\n",
       "    </tr>\n",
       "    <tr>\n",
       "      <th>667</th>\n",
       "      <td>0.0</td>\n",
       "      <td>0.768377</td>\n",
       "      <td>1</td>\n",
       "    </tr>\n",
       "    <tr>\n",
       "      <th>63</th>\n",
       "      <td>1.0</td>\n",
       "      <td>0.573153</td>\n",
       "      <td>1</td>\n",
       "    </tr>\n",
       "    <tr>\n",
       "      <th>533</th>\n",
       "      <td>0.0</td>\n",
       "      <td>0.295374</td>\n",
       "      <td>0</td>\n",
       "    </tr>\n",
       "    <tr>\n",
       "      <th>66</th>\n",
       "      <td>0.0</td>\n",
       "      <td>0.460163</td>\n",
       "      <td>0</td>\n",
       "    </tr>\n",
       "    <tr>\n",
       "      <th>621</th>\n",
       "      <td>1.0</td>\n",
       "      <td>0.221057</td>\n",
       "      <td>0</td>\n",
       "    </tr>\n",
       "    <tr>\n",
       "      <th>346</th>\n",
       "      <td>0.0</td>\n",
       "      <td>0.151440</td>\n",
       "      <td>0</td>\n",
       "    </tr>\n",
       "    <tr>\n",
       "      <th>490</th>\n",
       "      <td>0.0</td>\n",
       "      <td>0.105623</td>\n",
       "      <td>0</td>\n",
       "    </tr>\n",
       "    <tr>\n",
       "      <th>760</th>\n",
       "      <td>0.0</td>\n",
       "      <td>0.094901</td>\n",
       "      <td>0</td>\n",
       "    </tr>\n",
       "    <tr>\n",
       "      <th>456</th>\n",
       "      <td>0.0</td>\n",
       "      <td>0.101640</td>\n",
       "      <td>0</td>\n",
       "    </tr>\n",
       "  </tbody>\n",
       "</table>\n",
       "</div>"
      ],
      "text/plain": [
       "     actual  predicted_prob  Converted\n",
       "696     0.0        0.210581          0\n",
       "667     0.0        0.768377          1\n",
       "63      1.0        0.573153          1\n",
       "533     0.0        0.295374          0\n",
       "66      0.0        0.460163          0\n",
       "621     1.0        0.221057          0\n",
       "346     0.0        0.151440          0\n",
       "490     0.0        0.105623          0\n",
       "760     0.0        0.094901          0\n",
       "456     0.0        0.101640          0"
      ]
     },
     "execution_count": 23,
     "metadata": {},
     "output_type": "execute_result"
    }
   ],
   "source": [
    "predict_test_df['Converted'] = predict_test_df.predicted_prob.map(lambda x: 1 if x > 0.5 else 0)\n",
    "predict_test_df[0:10]"
   ]
  },
  {
   "cell_type": "code",
   "execution_count": 24,
   "id": "85663bf4",
   "metadata": {},
   "outputs": [],
   "source": [
    "from sklearn import metrics\n",
    "from sklearn.metrics import confusion_matrix\n",
    "from sklearn.metrics import classification_report"
   ]
  },
  {
   "cell_type": "code",
   "execution_count": 25,
   "id": "4f2cb440",
   "metadata": {},
   "outputs": [
    {
     "name": "stdout",
     "output_type": "stream",
     "text": [
      "[[114   6]\n",
      " [ 28  12]]\n",
      "              precision    recall  f1-score   support\n",
      "\n",
      "         0.0       0.80      0.95      0.87       120\n",
      "         1.0       0.67      0.30      0.41        40\n",
      "\n",
      "    accuracy                           0.79       160\n",
      "   macro avg       0.73      0.62      0.64       160\n",
      "weighted avg       0.77      0.79      0.76       160\n",
      "\n"
     ]
    }
   ],
   "source": [
    "print(confusion_matrix(y_test, predict_test_df.Converted))\n",
    "lg_reg_report = (classification_report(y_test, predict_test_df.Converted))\n",
    "print(lg_reg_report)"
   ]
  },
  {
   "cell_type": "code",
   "execution_count": 26,
   "id": "50505e70",
   "metadata": {},
   "outputs": [],
   "source": [
    "predict_test_df['predicted_code'] = predict_test_df.Converted\n",
    "predict_test_df['actual_code'] = predict_test_df.actual"
   ]
  },
  {
   "cell_type": "code",
   "execution_count": 27,
   "id": "8a7a6fe0",
   "metadata": {},
   "outputs": [
    {
     "data": {
      "text/html": [
       "<div>\n",
       "<style scoped>\n",
       "    .dataframe tbody tr th:only-of-type {\n",
       "        vertical-align: middle;\n",
       "    }\n",
       "\n",
       "    .dataframe tbody tr th {\n",
       "        vertical-align: top;\n",
       "    }\n",
       "\n",
       "    .dataframe thead th {\n",
       "        text-align: right;\n",
       "    }\n",
       "</style>\n",
       "<table border=\"1\" class=\"dataframe\">\n",
       "  <thead>\n",
       "    <tr style=\"text-align: right;\">\n",
       "      <th></th>\n",
       "      <th>actual</th>\n",
       "      <th>predicted_prob</th>\n",
       "      <th>Converted</th>\n",
       "      <th>predicted_code</th>\n",
       "      <th>actual_code</th>\n",
       "    </tr>\n",
       "  </thead>\n",
       "  <tbody>\n",
       "    <tr>\n",
       "      <th>696</th>\n",
       "      <td>0.0</td>\n",
       "      <td>0.210581</td>\n",
       "      <td>0</td>\n",
       "      <td>0</td>\n",
       "      <td>0.0</td>\n",
       "    </tr>\n",
       "    <tr>\n",
       "      <th>667</th>\n",
       "      <td>0.0</td>\n",
       "      <td>0.768377</td>\n",
       "      <td>1</td>\n",
       "      <td>1</td>\n",
       "      <td>0.0</td>\n",
       "    </tr>\n",
       "    <tr>\n",
       "      <th>63</th>\n",
       "      <td>1.0</td>\n",
       "      <td>0.573153</td>\n",
       "      <td>1</td>\n",
       "      <td>1</td>\n",
       "      <td>1.0</td>\n",
       "    </tr>\n",
       "    <tr>\n",
       "      <th>533</th>\n",
       "      <td>0.0</td>\n",
       "      <td>0.295374</td>\n",
       "      <td>0</td>\n",
       "      <td>0</td>\n",
       "      <td>0.0</td>\n",
       "    </tr>\n",
       "    <tr>\n",
       "      <th>66</th>\n",
       "      <td>0.0</td>\n",
       "      <td>0.460163</td>\n",
       "      <td>0</td>\n",
       "      <td>0</td>\n",
       "      <td>0.0</td>\n",
       "    </tr>\n",
       "    <tr>\n",
       "      <th>...</th>\n",
       "      <td>...</td>\n",
       "      <td>...</td>\n",
       "      <td>...</td>\n",
       "      <td>...</td>\n",
       "      <td>...</td>\n",
       "    </tr>\n",
       "    <tr>\n",
       "      <th>589</th>\n",
       "      <td>1.0</td>\n",
       "      <td>0.124418</td>\n",
       "      <td>0</td>\n",
       "      <td>0</td>\n",
       "      <td>1.0</td>\n",
       "    </tr>\n",
       "    <tr>\n",
       "      <th>798</th>\n",
       "      <td>0.0</td>\n",
       "      <td>0.394814</td>\n",
       "      <td>0</td>\n",
       "      <td>0</td>\n",
       "      <td>0.0</td>\n",
       "    </tr>\n",
       "    <tr>\n",
       "      <th>744</th>\n",
       "      <td>0.0</td>\n",
       "      <td>0.145755</td>\n",
       "      <td>0</td>\n",
       "      <td>0</td>\n",
       "      <td>0.0</td>\n",
       "    </tr>\n",
       "    <tr>\n",
       "      <th>513</th>\n",
       "      <td>0.0</td>\n",
       "      <td>0.444209</td>\n",
       "      <td>0</td>\n",
       "      <td>0</td>\n",
       "      <td>0.0</td>\n",
       "    </tr>\n",
       "    <tr>\n",
       "      <th>670</th>\n",
       "      <td>0.0</td>\n",
       "      <td>0.103933</td>\n",
       "      <td>0</td>\n",
       "      <td>0</td>\n",
       "      <td>0.0</td>\n",
       "    </tr>\n",
       "  </tbody>\n",
       "</table>\n",
       "<p>160 rows × 5 columns</p>\n",
       "</div>"
      ],
      "text/plain": [
       "     actual  predicted_prob  Converted  predicted_code  actual_code\n",
       "696     0.0        0.210581          0               0          0.0\n",
       "667     0.0        0.768377          1               1          0.0\n",
       "63      1.0        0.573153          1               1          1.0\n",
       "533     0.0        0.295374          0               0          0.0\n",
       "66      0.0        0.460163          0               0          0.0\n",
       "..      ...             ...        ...             ...          ...\n",
       "589     1.0        0.124418          0               0          1.0\n",
       "798     0.0        0.394814          0               0          0.0\n",
       "744     0.0        0.145755          0               0          0.0\n",
       "513     0.0        0.444209          0               0          0.0\n",
       "670     0.0        0.103933          0               0          0.0\n",
       "\n",
       "[160 rows x 5 columns]"
      ]
     },
     "execution_count": 27,
     "metadata": {},
     "output_type": "execute_result"
    }
   ],
   "source": [
    "predict_test_df"
   ]
  },
  {
   "cell_type": "code",
   "execution_count": 28,
   "id": "19cf4d4e",
   "metadata": {},
   "outputs": [],
   "source": [
    "def draw_cm( actual, predicted ):\n",
    "    plt.figure(figsize=(9,9))\n",
    "    cm = metrics.confusion_matrix( actual, predicted )\n",
    "    sns.heatmap(cm, annot=True,  fmt='.0f', xticklabels = [\"Good Credit\", \"Bad Credit\"] , \n",
    "               yticklabels = [\"Good Credit\", \"Bad Credit\"],cmap = 'Blues_r')\n",
    "    plt.ylabel('Actual')\n",
    "    plt.xlabel('Predicted')\n",
    "    plt.title('Classification Matrix Plot', size = 15);\n",
    "    plt.show()"
   ]
  },
  {
   "cell_type": "code",
   "execution_count": 29,
   "id": "1100dfb1",
   "metadata": {},
   "outputs": [
    {
     "data": {
      "image/png": "[encoded data removed]",
      "text/plain": [
       "<Figure size 900x900 with 2 Axes>"
      ]
     },
     "metadata": {},
     "output_type": "display_data"
    }
   ],
   "source": [
    "draw_cm( predict_test_df.actual_code, predict_test_df.predicted_code )"
   ]
  },
  {
   "cell_type": "code",
   "execution_count": 30,
   "id": "47233979",
   "metadata": {},
   "outputs": [
    {
     "name": "stdout",
     "output_type": "stream",
     "text": [
      "   sensitivity  specificity  recall  precision  overall_acc\n",
      "0         0.95          0.3    0.95        0.8         0.79\n",
      "Total Accuracy sklearn:  0.79\n"
     ]
    }
   ],
   "source": [
    "from sklearn.metrics import classification_report, accuracy_score\n",
    "\n",
    "def measure_performance(predicted, actual):\n",
    "    report = classification_report(actual, predicted, target_names=['Class 0', 'Class 1'], output_dict=True)\n",
    "    accuracy = accuracy_score(actual, predicted)\n",
    "    \n",
    "    metrics_df = pd.DataFrame({\n",
    "        'sensitivity': [round(report['Class 0']['recall'], 2)],\n",
    "        'specificity': [round(report['Class 1']['recall'], 2)],\n",
    "        'recall': [round(report['Class 0']['recall'], 2)],\n",
    "        'precision': [round(report['Class 0']['precision'], 2)],\n",
    "        'overall_acc': [round(accuracy, 2)]\n",
    "    })\n",
    "    \n",
    "    return metrics_df\n",
    "\n",
    "# Example usage:\n",
    "predicted = predict_test_df.predicted_code\n",
    "actual = predict_test_df.actual_code\n",
    "\n",
    "lg_reg_metrics_df = measure_performance(predicted, actual)\n",
    "print(lg_reg_metrics_df)\n",
    "print('Total Accuracy sklearn: ', np.round(accuracy_score(actual, predicted), 2))"
   ]
  },
  {
   "cell_type": "code",
   "execution_count": null,
   "id": "23b23fc4",
   "metadata": {},
   "outputs": [],
   "source": []
  }
 ],
 "metadata": {
  "kernelspec": {
   "display_name": "Python 3 (ipykernel)",
   "language": "python",
   "name": "python3"
  },
  "language_info": {
   "codemirror_mode": {
    "name": "ipython",
    "version": 3
   },
   "file_extension": ".py",
   "mimetype": "text/x-python",
   "name": "python",
   "nbconvert_exporter": "python",
   "pygments_lexer": "ipython3",
   "version": "3.9.13"
  }
 },
 "nbformat": 4,
 "nbformat_minor": 5
}
